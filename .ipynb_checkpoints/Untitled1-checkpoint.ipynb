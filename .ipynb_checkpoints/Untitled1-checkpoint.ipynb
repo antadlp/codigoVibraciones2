{
 "cells": [
  {
   "cell_type": "code",
   "execution_count": 1,
   "metadata": {
    "collapsed": true
   },
   "outputs": [],
   "source": [
    "#Debe haber de entrada solamente el movie de la dinamica"
   ]
  },
  {
   "cell_type": "code",
   "execution_count": 2,
   "metadata": {
    "collapsed": true
   },
   "outputs": [],
   "source": [
    "#Lo primero que se hace es agarrar el frame 1 y rotarlo con el programa rota.f \n",
    "#del tutor"
   ]
  },
  {
   "cell_type": "code",
   "execution_count": 3,
   "metadata": {
    "collapsed": true
   },
   "outputs": [],
   "source": [
    "#Extrayendo el frame 1 y rotandolo seria..."
   ]
  },
  {
   "cell_type": "code",
   "execution_count": 4,
   "metadata": {
    "collapsed": true
   },
   "outputs": [],
   "source": [
    "#Antes seria hacer un parsing para seleccionar el identificador de la dinamica"
   ]
  },
  {
   "cell_type": "code",
   "execution_count": 9,
   "metadata": {
    "collapsed": true
   },
   "outputs": [],
   "source": [
    "from pyparsing import *"
   ]
  },
  {
   "cell_type": "code",
   "execution_count": 16,
   "metadata": {
    "collapsed": false
   },
   "outputs": [
    {
     "data": {
      "text/plain": [
       "['movie-B12N12.xyz']"
      ]
     },
     "execution_count": 16,
     "metadata": {},
     "output_type": "execute_result"
    }
   ],
   "source": [
    "#parsing para aislar el identificador del nombre\n",
    "#de la dinamica\n",
    "#Ej, de movie-B12N12.xyz  extraer --> 'B12N12'\n",
    "\n",
    "from pyparsing import *\n",
    "movie = Word(alphas)\n",
    "separador = Word('-')\n",
    "identificador = Word(alphanums)\n",
    "punto = Word('.')\n",
    "extension = Word(alphas)\n",
    "\n",
    "nombre_Movie = Combine(movie + separador + identificador + punto + extension)\n",
    "\n",
    "stringPrueba = 'movie-B12N12.xyz'\n",
    "\n",
    "nombre_Movie.parseString(stringPrueba).asList()"
   ]
  },
  {
   "cell_type": "code",
   "execution_count": 26,
   "metadata": {
    "collapsed": false
   },
   "outputs": [
    {
     "name": "stdout",
     "output_type": "stream",
     "text": [
      "B12N12a\n"
     ]
    }
   ],
   "source": [
    "#parsing para aislar el identificador del nombre\n",
    "#de la dinamica\n",
    "#Ej, de movie-B12N12.xyz  extraer --> 'B12N12'\n",
    "\n",
    "#Ahora suprimiendo todo excepto el identificador\n",
    "\n",
    "from pyparsing import *\n",
    "movie = Word(alphas).suppress()\n",
    "separador = Word('-').suppress()\n",
    "identificador = Word(alphanums)\n",
    "punto = Word('.').suppress()\n",
    "extension = Word(alphas).suppress()\n",
    "\n",
    "nombre_Movie = Combine(movie + separador + identificador + punto + extension)\n",
    "\n",
    "stringPrueba = 'movie-B12N12a.xyz'\n",
    "\n",
    "idMovie = nombre_Movie.parseString(stringPrueba).asList()\n",
    "\n",
    "print(idMovie[0])"
   ]
  },
  {
   "cell_type": "code",
   "execution_count": 23,
   "metadata": {
    "collapsed": false
   },
   "outputs": [
    {
     "data": {
      "text/plain": [
       "str"
      ]
     },
     "execution_count": 23,
     "metadata": {},
     "output_type": "execute_result"
    }
   ],
   "source": [
    "#What type of variable is idMovie[0]?\n",
    "type(idMovie[0])"
   ]
  },
  {
   "cell_type": "code",
   "execution_count": 24,
   "metadata": {
    "collapsed": true
   },
   "outputs": [],
   "source": [
    "#Now how to extract only the frame 1?\n",
    "#The idea will be to get the number of atoms on every frame,\n",
    "#and the only add +2 to the lines i need to copy for frame 1\n",
    "#the number of atoms is a requirement in a *.xyz file"
   ]
  },
  {
   "cell_type": "markdown",
   "metadata": {},
   "source": [
    "<img src=\"atomnumberxyz.png\">"
   ]
  },
  {
   "cell_type": "code",
   "execution_count": 25,
   "metadata": {
    "collapsed": true
   },
   "outputs": [],
   "source": [
    "# the +2 line is for the row with the atom number and the row of a light desciption\n",
    "#in this case is the string 'frame   2'"
   ]
  },
  {
   "cell_type": "code",
   "execution_count": 27,
   "metadata": {
    "collapsed": false
   },
   "outputs": [
    {
     "name": "stdout",
     "output_type": "stream",
     "text": [
      "  142\n",
      "\n"
     ]
    }
   ],
   "source": [
    "#trying to copy only frame 1 of a movie\n",
    "\n",
    "from pyparsing import *\n",
    "\n",
    "inputFile = 'movie-GP.xyz'\n",
    "\n",
    "F = open(inputFile,'r')\n",
    "line = next(F)\n",
    "print(line)"
   ]
  },
  {
   "cell_type": "code",
   "execution_count": 28,
   "metadata": {
    "collapsed": true
   },
   "outputs": [],
   "source": [
    "#ok its looks that it was easy :P"
   ]
  },
  {
   "cell_type": "code",
   "execution_count": 37,
   "metadata": {
    "collapsed": false
   },
   "outputs": [
    {
     "name": "stdout",
     "output_type": "stream",
     "text": [
      "  142\n",
      "\n",
      " frame      1\n",
      "\n",
      " H         22.1720      4.8510     -0.0670\n",
      "\n",
      " H         20.9380      7.0320     -0.0990\n",
      "\n",
      " H         18.7530      8.3110     -0.0740\n",
      "\n",
      " H         14.0630      9.6350     -0.0550\n",
      "\n",
      " H         16.5710      9.6030     -0.0370\n",
      "\n",
      " H          9.6370      7.1730     -0.1960\n",
      "\n",
      " H          8.3480      5.0260     -0.2170\n",
      "\n",
      " H         11.8500      8.3990     -0.1260\n",
      "\n",
      " H          8.1420    -10.1250      0.2510\n",
      "\n",
      " H          8.3130      2.4960     -0.1860\n",
      "\n",
      " H          8.1130    -12.6520      0.3840\n",
      "\n",
      " H          9.3460    -14.8280      0.5250\n",
      "\n",
      " H         11.5290    -16.1060      0.6290\n",
      "\n",
      " H         16.2170    -17.4280      0.7360\n",
      "\n",
      " H         13.7110    -17.3960      0.7170\n",
      "\n",
      " H         20.6470    -14.9700      0.6370\n",
      "\n",
      " H         22.0820     -2.7270      0.2490\n",
      "\n",
      " H         22.0490     -5.2480      0.3550\n",
      "\n",
      " H         22.0110     -7.7700      0.4260\n",
      "\n",
      " H         21.9720    -10.2960      0.4890\n",
      "\n",
      " H         22.1430      2.3220      0.0130\n",
      "\n",
      " H         21.9360    -12.8230      0.5640\n",
      "\n",
      " H         18.4310    -16.1930      0.6860\n",
      "\n",
      " H         22.1140     -0.2040      0.1220\n",
      "\n",
      " H          8.2380     -2.5540     -0.0620\n",
      "\n",
      " H          8.2030     -5.0770      0.0310\n",
      "\n",
      " H          8.1700     -7.6000      0.1340\n",
      "\n",
      " H          8.2730     -0.0320     -0.1370\n",
      "\n",
      " C         18.8818      3.5990     -0.0340\n",
      "\n",
      " C         20.3541      3.5770     -0.0300\n",
      "\n",
      " C         21.0647      4.8686     -0.0620\n",
      "\n",
      " C         16.7150      4.8780     -0.0630\n",
      "\n",
      " C         18.1710      4.8599     -0.0570\n",
      "\n",
      " C         18.9101      6.1281     -0.0710\n",
      "\n",
      " C         20.3834      6.0739     -0.0790\n",
      "\n",
      " C         12.3470      4.9329     -0.1210\n",
      "\n",
      " C         13.8020      4.9150     -0.0940\n",
      "\n",
      " C         14.5451      6.1639     -0.0850\n",
      "\n",
      " C         16.0029      6.1449     -0.0710\n",
      "\n",
      " C         16.7510      7.3981     -0.0650\n",
      "\n",
      " C         18.1917      7.3566     -0.0700\n",
      "\n",
      " C         11.6399      6.2200     -0.1400\n",
      "\n",
      " C         12.3873      7.4306     -0.1180\n",
      "\n",
      " C         13.8280      7.4361     -0.0890\n",
      "\n",
      " C         14.6078      8.6715     -0.0650\n",
      "\n",
      " C         16.0022      8.6526     -0.0540\n",
      "\n",
      " C          9.4552      5.0145     -0.1890\n",
      "\n",
      " C         10.1675      6.2010     -0.1780\n",
      "\n",
      " C         13.6337     -7.6491      0.2981\n",
      "\n",
      " C         12.1700     -7.6331      0.2612\n",
      "\n",
      " C         11.4312     -8.8830      0.2911\n",
      "\n",
      " C          9.9579     -8.8671      0.2460\n",
      "\n",
      " C         11.5335     -1.3409     -0.0075\n",
      "\n",
      " C          9.2485    -10.1360      0.2830\n",
      "\n",
      " C         15.8040     -8.9310      0.3926\n",
      "\n",
      " C         14.3440     -8.9129      0.3646\n",
      "\n",
      " C         15.9070     -1.4018      0.1033\n",
      "\n",
      " C         13.6019    -10.1620      0.3970\n",
      "\n",
      " C         14.4450     -1.3841      0.0754\n",
      "\n",
      " C         12.1400    -10.1450      0.3620\n",
      "\n",
      " C         13.7018     -2.6243      0.5531\n",
      "\n",
      " C         11.6041      3.6900     -0.1260\n",
      "\n",
      " C         11.4021    -11.3971      0.4000\n",
      "\n",
      " C         12.2427     -2.6109      0.0690\n",
      "\n",
      " C         10.1320      3.7041     -0.1600\n",
      "\n",
      " C          9.9300    -11.3761      0.3620\n",
      "\n",
      " C         11.4983     -3.8560      0.0880\n",
      "\n",
      " C          9.4195      2.4799     -0.1590\n",
      "\n",
      " C          9.2203    -12.6676      0.4100\n",
      "\n",
      " C         20.2961     -1.4471      0.1617\n",
      "\n",
      " C         17.9749    -10.2180      0.4630\n",
      "\n",
      " C         18.8196     -1.4299      0.1415\n",
      "\n",
      " C         16.5121    -10.1990      0.4470\n",
      "\n",
      " C         18.0767     -2.6807      0.1949\n",
      "\n",
      " C         15.9719      3.6260     -0.0530\n",
      "\n",
      " C         15.7700    -11.4430      0.4820\n",
      "\n",
      " C         16.6145     -2.6617      0.5226\n",
      "\n",
      " C         14.5130      3.6441     -0.0720\n",
      "\n",
      " C         14.3110    -11.4240      0.4600\n",
      "\n",
      " C         13.7710      2.3999     -0.0630\n",
      "\n",
      " C         13.5680    -12.6750      0.5000\n",
      "\n",
      " C         15.8796     -3.9062      1.1290\n",
      "\n",
      " C         14.4030     -3.8893      1.0966\n",
      "\n",
      " C         12.3090      2.4189     -0.0920\n",
      "\n",
      " C         12.1121    -12.6578      0.4740\n",
      "\n",
      " C         13.6655     -5.1381      0.6561\n",
      "\n",
      " C         11.5681      1.1730     -0.0819\n",
      "\n",
      " C         11.3729    -13.9251      0.5200\n",
      "\n",
      " C         12.2085     -5.1183      0.1688\n",
      "\n",
      " C         10.0949      1.1931     -0.1180\n",
      "\n",
      " C          9.9015    -13.8709      0.4870\n",
      "\n",
      " C         20.9755     -2.7120      0.2320\n",
      "\n",
      " C         18.6789    -11.4890      0.5090\n",
      "\n",
      " C         20.2641     -3.9631      0.2775\n",
      "\n",
      " C         18.1430      2.3460     -0.0070\n",
      "\n",
      " C         17.9360    -12.7309      0.5490\n",
      "\n",
      " C         18.7860     -3.9451      0.2551\n",
      "\n",
      " C         16.6810      2.3630     -0.0209\n",
      "\n",
      " C         16.4809    -12.7129      0.5370\n",
      "\n",
      " C         18.0418     -5.1893      0.3026\n",
      "\n",
      " C         15.9390      1.1130      0.0037\n",
      "\n",
      " C         15.7369    -13.9599      0.5810\n",
      "\n",
      " C         16.5821     -5.1743      0.7231\n",
      "\n",
      " C         14.4800      1.1310     -0.0213\n",
      "\n",
      " C         14.2791    -13.9409      0.5650\n",
      "\n",
      " C         15.8390     -6.4166      0.3121\n",
      "\n",
      " C         13.7357     -0.1153      0.0022\n",
      "\n",
      " C         13.5310    -15.1931      0.6130\n",
      "\n",
      " C         14.3762     -6.3985      0.2790\n",
      "\n",
      " C         12.2729     -0.0959     -0.0288\n",
      "\n",
      " C         12.0903    -15.1525      0.5920\n",
      "\n",
      " C         20.9415     -5.2320      0.3380\n",
      "\n",
      " C         18.8519      1.0831      0.0401\n",
      "\n",
      " C         18.6431    -14.0170      0.6000\n",
      "\n",
      " C         20.2280     -6.4790      0.3706\n",
      "\n",
      " C         18.1131     -0.1679      0.0801\n",
      "\n",
      " C         17.8938    -15.2256      0.6450\n",
      "\n",
      " C         18.7508     -6.4591      0.3504\n",
      "\n",
      " C         16.6502     -0.1512      0.0572\n",
      "\n",
      " C         16.4530    -15.2311      0.6390\n",
      "\n",
      " C         18.0110     -7.7041      0.3842\n",
      "\n",
      " C         15.6732    -16.4646      0.6890\n",
      "\n",
      " C         16.5473     -7.6850      0.3601\n",
      "\n",
      " C         14.2788    -16.4465      0.6780\n",
      "\n",
      " C         20.9035     -7.7540      0.4160\n",
      "\n",
      " C         20.1891     -8.9940      0.4440\n",
      "\n",
      " C         18.7159     -8.9730      0.4311\n",
      "\n",
      " C         20.8646    -10.2800      0.4840\n",
      "\n",
      " C         20.1520    -11.5041      0.5170\n",
      "\n",
      " C         11.4644     -6.3701      0.1875\n",
      "\n",
      " C         21.0355      2.3350      0.0090\n",
      "\n",
      " C         20.8288    -12.8126      0.5620\n",
      "\n",
      " C         20.3260      1.0670      0.0520\n",
      "\n",
      " C         20.1165    -13.9989      0.6020\n",
      "\n",
      " C         21.0065     -0.1910      0.1110\n",
      "\n",
      " C          9.9879     -6.3540      0.1407\n",
      "\n",
      " C         10.0218     -3.8380      0.0405\n",
      "\n",
      " C         10.0570     -1.3211     -0.0503\n",
      "\n",
      " C          9.3445     -2.5690     -0.0270\n",
      "\n",
      " C          9.3095     -5.0890      0.0680\n",
      "\n",
      " C          9.2766     -7.6110      0.1700\n",
      "\n",
      " C          9.3805     -0.0470     -0.1070\n",
      "\n"
     ]
    }
   ],
   "source": [
    "import numpy\n",
    "\n",
    "\n",
    "inputFile = 'movie-GP.xyz'\n",
    "\n",
    "F = open(inputFile,'r')\n",
    "line = next(F)\n",
    "#print(line.split()[0])\n",
    "num_atoms = float(line.split()[0])\n",
    "#print(num_atoms)\n",
    "\n",
    "lines = 1\n",
    "while lines <= (num_atoms + 2):\n",
    "    print(line)\n",
    "    line = next(F)\n",
    "    lines+=1\n",
    "\n"
   ]
  },
  {
   "cell_type": "code",
   "execution_count": 38,
   "metadata": {
    "collapsed": true
   },
   "outputs": [],
   "source": [
    "#It seems to work fine"
   ]
  },
  {
   "cell_type": "markdown",
   "metadata": {},
   "source": [
    "<img src=\"./images/lastlinemovie.png\">"
   ]
  },
  {
   "cell_type": "code",
   "execution_count": 43,
   "metadata": {
    "collapsed": false
   },
   "outputs": [
    {
     "name": "stdout",
     "output_type": "stream",
     "text": [
      "GP\n"
     ]
    }
   ],
   "source": [
    "import subprocess\n",
    "import numpy\n",
    "from pyparsing import *\n",
    "\n",
    "inputFile = 'movie-GP.xyz'\n",
    "dir_outs = '/home/antadlp/malla'\n",
    "\n",
    "movie = Word(alphas).suppress()\n",
    "separador = Word('-').suppress()\n",
    "identificador = Word(alphanums)\n",
    "punto = Word('.').suppress()\n",
    "extension = Word(alphas).suppress()\n",
    "nombre_Movie = Combine(movie + separador + identificador + punto + extension)\n",
    "idMovie = nombre_Movie.parseString(inputFile).asList()\n",
    "\n",
    "location0 = '/home/antadlp/'\n",
    "location1 = 'malla-python/'\n",
    "\n",
    "subprocess.run(['mkdir', location0 + location1])\n",
    "\n",
    "dir_outs = location0 + location1\n",
    "\n",
    "print(idMovie[0])\n",
    "\n",
    "F = open(inputFile,'r')\n",
    "line = next(F)\n",
    "num_atoms = float(line.split()[0])\n",
    "\n",
    "name_frame1 = dir_outs + \"frame1-\" + idMovie[0] + \".xyz\"\n",
    "\n",
    "frame1 = open(name_frame1,'w')\n",
    "\n",
    "lines = 1\n",
    "while lines <= (num_atoms + 2):\n",
    "    frame1.write(line)\n",
    "    line = next(F)\n",
    "    lines+=1\n",
    "\n",
    "F.close()\n",
    "frame1.close()\n",
    "\n",
    "#check it OK! it works fine!"
   ]
  },
  {
   "cell_type": "code",
   "execution_count": 44,
   "metadata": {
    "collapsed": true
   },
   "outputs": [],
   "source": [
    "#Now it follows to use the fortran code to rotate"
   ]
  },
  {
   "cell_type": "code",
   "execution_count": null,
   "metadata": {
    "collapsed": true
   },
   "outputs": [],
   "source": []
  }
 ],
 "metadata": {
  "kernelspec": {
   "display_name": "Python 3",
   "language": "python",
   "name": "python3"
  },
  "language_info": {
   "codemirror_mode": {
    "name": "ipython",
    "version": 3
   },
   "file_extension": ".py",
   "mimetype": "text/x-python",
   "name": "python",
   "nbconvert_exporter": "python",
   "pygments_lexer": "ipython3",
   "version": "3.6.0"
  }
 },
 "nbformat": 4,
 "nbformat_minor": 2
}
